{
  "nbformat": 4,
  "nbformat_minor": 0,
  "metadata": {
    "colab": {
      "provenance": []
    },
    "kernelspec": {
      "name": "python3",
      "display_name": "Python 3"
    },
    "language_info": {
      "name": "python"
    }
  },
  "cells": [
    {
      "cell_type": "code",
      "source": [
        "%pip -q install google-genai"
      ],
      "metadata": {
        "id": "UCCbECexLk_h"
      },
      "execution_count": 1,
      "outputs": []
    },
    {
      "cell_type": "code",
      "source": [
        "# Configura a API Key do Google Gemini\n",
        "\n",
        "import os\n",
        "from google.colab import userdata\n",
        "\n",
        "os.environ[\"GOOGLE_API_KEY\"] = userdata.get('GOOGLE_API_KEY')"
      ],
      "metadata": {
        "id": "NfCqHo1tLk8P"
      },
      "execution_count": 2,
      "outputs": []
    },
    {
      "cell_type": "code",
      "source": [
        "# Configura o cliente da SDK do Gemini\n",
        "\n",
        "from google import genai\n",
        "\n",
        "client = genai.Client()\n",
        "\n",
        "MODEL_ID = \"gemini-2.0-flash\""
      ],
      "metadata": {
        "id": "bV4w0H5TLk5g"
      },
      "execution_count": 3,
      "outputs": []
    },
    {
      "cell_type": "code",
      "source": [
        "# Pergunta ao Gemini uma informação mais recente que seu conhecimento\n",
        "\n",
        "from IPython.display import HTML, Markdown\n",
        "\n",
        "# Perguntar pro modelo quando é a próxima imersão de IA ###############################################\n",
        "resposta = client.models.generate_content(\n",
        "    model=MODEL_ID,\n",
        "    contents=\"Quando é a próxima Imersão IA com Google Gemini da Alura?\",\n",
        ")\n",
        "\n",
        "# Exibe a resposta na tela\n",
        "display(Markdown(f\"Resposta:\\n {resposta.text}\"))"
      ],
      "metadata": {
        "id": "HwVP7Xi34Zuw",
        "colab": {
          "base_uri": "https://localhost:8080/",
          "height": 145
        },
        "outputId": "3290ade3-29f4-4b41-d3fa-04927de86174"
      },
      "execution_count": 10,
      "outputs": [
        {
          "output_type": "display_data",
          "data": {
            "text/plain": [
              "<IPython.core.display.Markdown object>"
            ],
            "text/markdown": "Resposta:\n A Alura ainda não divulgou novas datas para a Imersão IA com Google Gemini.\n\nA melhor forma de ficar por dentro das novidades e futuras edições é:\n\n*   **Acompanhar as redes sociais da Alura:** Eles costumam anunciar novos cursos e imersões por lá.\n*   **Assinar a newsletter da Alura:** Assim, você recebe as informações diretamente no seu e-mail.\n*   **Ficar de olho no site da Alura:** A página da Imersão IA com Google Gemini (se ainda estiver disponível) ou a página de cursos de IA podem ser atualizadas com novas datas."
          },
          "metadata": {}
        }
      ]
    },
    {
      "cell_type": "code",
      "source": [
        "# Pergunta ao Gemini uma informação utilizando a busca do Google como contexto\n",
        "\n",
        "response = client.models.generate_content(\n",
        "    model=MODEL_ID,\n",
        "    contents='Quando é a próxima Imersão IA com Google Gemini da Alura?',\n",
        "    config={\"tools\": [{\"google_search\": {}}]}\n",
        ")\n",
        "\n",
        "# Exibe a resposta na tela\n",
        "display(Markdown(f\"Resposta:\\n {response.text}\"))"
      ],
      "metadata": {
        "id": "yXaZd7iZ4ftw",
        "colab": {
          "base_uri": "https://localhost:8080/",
          "height": 64
        },
        "outputId": "67c5ca39-ee47-4793-e147-5d4fc71044d1"
      },
      "execution_count": 11,
      "outputs": [
        {
          "output_type": "display_data",
          "data": {
            "text/plain": [
              "<IPython.core.display.Markdown object>"
            ],
            "text/markdown": "Resposta:\n Com base nas informações encontradas, a Alura realizou diversas edições da Imersão IA com Google Gemini. A edição mais recente ocorreu em maio de 2025. Para saber sobre as próximas edições, o ideal é acompanhar os canais de comunicação da Alura, como o site oficial e redes sociais."
          },
          "metadata": {}
        }
      ]
    },
    {
      "cell_type": "code",
      "source": [
        "# Exibe a busca\n",
        "print(f\"Busca realizada: {response.candidates[0].grounding_metadata.web_search_queries}\")\n",
        "# Exibe as URLs nas quais ele se baseou\n",
        "print(f\"Páginas utilizadas na resposta: {', '.join([site.web.title for site in response.candidates[0].grounding_metadata.grounding_chunks])}\")\n",
        "print()\n",
        "display(HTML(response.candidates[0].grounding_metadata.search_entry_point.rendered_content))"
      ],
      "metadata": {
        "id": "xHSNlTd84heJ",
        "colab": {
          "base_uri": "https://localhost:8080/",
          "height": 118
        },
        "outputId": "b1d31291-8e72-41ef-fc99-7b7f7f6e7cf7"
      },
      "execution_count": 12,
      "outputs": [
        {
          "output_type": "stream",
          "name": "stdout",
          "text": [
            "Busca realizada: ['próxima Imersão IA com Google Gemini Alura']\n",
            "Páginas utilizadas na resposta: youtube.com, alura.com.br, youtube.com, educacao.mg.gov.br, youtube.com\n",
            "\n"
          ]
        },
        {
          "output_type": "display_data",
          "data": {
            "text/plain": [
              "<IPython.core.display.HTML object>"
            ],
            "text/html": [
              "<style>\n",
              ".container {\n",
              "  align-items: center;\n",
              "  border-radius: 8px;\n",
              "  display: flex;\n",
              "  font-family: Google Sans, Roboto, sans-serif;\n",
              "  font-size: 14px;\n",
              "  line-height: 20px;\n",
              "  padding: 8px 12px;\n",
              "}\n",
              ".chip {\n",
              "  display: inline-block;\n",
              "  border: solid 1px;\n",
              "  border-radius: 16px;\n",
              "  min-width: 14px;\n",
              "  padding: 5px 16px;\n",
              "  text-align: center;\n",
              "  user-select: none;\n",
              "  margin: 0 8px;\n",
              "  -webkit-tap-highlight-color: transparent;\n",
              "}\n",
              ".carousel {\n",
              "  overflow: auto;\n",
              "  scrollbar-width: none;\n",
              "  white-space: nowrap;\n",
              "  margin-right: -12px;\n",
              "}\n",
              ".headline {\n",
              "  display: flex;\n",
              "  margin-right: 4px;\n",
              "}\n",
              ".gradient-container {\n",
              "  position: relative;\n",
              "}\n",
              ".gradient {\n",
              "  position: absolute;\n",
              "  transform: translate(3px, -9px);\n",
              "  height: 36px;\n",
              "  width: 9px;\n",
              "}\n",
              "@media (prefers-color-scheme: light) {\n",
              "  .container {\n",
              "    background-color: #fafafa;\n",
              "    box-shadow: 0 0 0 1px #0000000f;\n",
              "  }\n",
              "  .headline-label {\n",
              "    color: #1f1f1f;\n",
              "  }\n",
              "  .chip {\n",
              "    background-color: #ffffff;\n",
              "    border-color: #d2d2d2;\n",
              "    color: #5e5e5e;\n",
              "    text-decoration: none;\n",
              "  }\n",
              "  .chip:hover {\n",
              "    background-color: #f2f2f2;\n",
              "  }\n",
              "  .chip:focus {\n",
              "    background-color: #f2f2f2;\n",
              "  }\n",
              "  .chip:active {\n",
              "    background-color: #d8d8d8;\n",
              "    border-color: #b6b6b6;\n",
              "  }\n",
              "  .logo-dark {\n",
              "    display: none;\n",
              "  }\n",
              "  .gradient {\n",
              "    background: linear-gradient(90deg, #fafafa 15%, #fafafa00 100%);\n",
              "  }\n",
              "}\n",
              "@media (prefers-color-scheme: dark) {\n",
              "  .container {\n",
              "    background-color: #1f1f1f;\n",
              "    box-shadow: 0 0 0 1px #ffffff26;\n",
              "  }\n",
              "  .headline-label {\n",
              "    color: #fff;\n",
              "  }\n",
              "  .chip {\n",
              "    background-color: #2c2c2c;\n",
              "    border-color: #3c4043;\n",
              "    color: #fff;\n",
              "    text-decoration: none;\n",
              "  }\n",
              "  .chip:hover {\n",
              "    background-color: #353536;\n",
              "  }\n",
              "  .chip:focus {\n",
              "    background-color: #353536;\n",
              "  }\n",
              "  .chip:active {\n",
              "    background-color: #464849;\n",
              "    border-color: #53575b;\n",
              "  }\n",
              "  .logo-light {\n",
              "    display: none;\n",
              "  }\n",
              "  .gradient {\n",
              "    background: linear-gradient(90deg, #1f1f1f 15%, #1f1f1f00 100%);\n",
              "  }\n",
              "}\n",
              "</style>\n",
              "<div class=\"container\">\n",
              "  <div class=\"headline\">\n",
              "    <svg class=\"logo-light\" width=\"18\" height=\"18\" viewBox=\"9 9 35 35\" fill=\"none\" xmlns=\"http://www.w3.org/2000/svg\">\n",
              "      <path fill-rule=\"evenodd\" clip-rule=\"evenodd\" d=\"M42.8622 27.0064C42.8622 25.7839 42.7525 24.6084 42.5487 23.4799H26.3109V30.1568H35.5897C35.1821 32.3041 33.9596 34.1222 32.1258 35.3448V39.6864H37.7213C40.9814 36.677 42.8622 32.2571 42.8622 27.0064V27.0064Z\" fill=\"#4285F4\"/>\n",
              "      <path fill-rule=\"evenodd\" clip-rule=\"evenodd\" d=\"M26.3109 43.8555C30.9659 43.8555 34.8687 42.3195 37.7213 39.6863L32.1258 35.3447C30.5898 36.3792 28.6306 37.0061 26.3109 37.0061C21.8282 37.0061 18.0195 33.9811 16.6559 29.906H10.9194V34.3573C13.7563 39.9841 19.5712 43.8555 26.3109 43.8555V43.8555Z\" fill=\"#34A853\"/>\n",
              "      <path fill-rule=\"evenodd\" clip-rule=\"evenodd\" d=\"M16.6559 29.8904C16.3111 28.8559 16.1074 27.7588 16.1074 26.6146C16.1074 25.4704 16.3111 24.3733 16.6559 23.3388V18.8875H10.9194C9.74388 21.2072 9.06992 23.8247 9.06992 26.6146C9.06992 29.4045 9.74388 32.022 10.9194 34.3417L15.3864 30.8621L16.6559 29.8904V29.8904Z\" fill=\"#FBBC05\"/>\n",
              "      <path fill-rule=\"evenodd\" clip-rule=\"evenodd\" d=\"M26.3109 16.2386C28.85 16.2386 31.107 17.1164 32.9095 18.8091L37.8466 13.8719C34.853 11.082 30.9659 9.3736 26.3109 9.3736C19.5712 9.3736 13.7563 13.245 10.9194 18.8875L16.6559 23.3388C18.0195 19.2636 21.8282 16.2386 26.3109 16.2386V16.2386Z\" fill=\"#EA4335\"/>\n",
              "    </svg>\n",
              "    <svg class=\"logo-dark\" width=\"18\" height=\"18\" viewBox=\"0 0 48 48\" xmlns=\"http://www.w3.org/2000/svg\">\n",
              "      <circle cx=\"24\" cy=\"23\" fill=\"#FFF\" r=\"22\"/>\n",
              "      <path d=\"M33.76 34.26c2.75-2.56 4.49-6.37 4.49-11.26 0-.89-.08-1.84-.29-3H24.01v5.99h8.03c-.4 2.02-1.5 3.56-3.07 4.56v.75l3.91 2.97h.88z\" fill=\"#4285F4\"/>\n",
              "      <path d=\"M15.58 25.77A8.845 8.845 0 0 0 24 31.86c1.92 0 3.62-.46 4.97-1.31l4.79 3.71C31.14 36.7 27.65 38 24 38c-5.93 0-11.01-3.4-13.45-8.36l.17-1.01 4.06-2.85h.8z\" fill=\"#34A853\"/>\n",
              "      <path d=\"M15.59 20.21a8.864 8.864 0 0 0 0 5.58l-5.03 3.86c-.98-2-1.53-4.25-1.53-6.64 0-2.39.55-4.64 1.53-6.64l1-.22 3.81 2.98.22 1.08z\" fill=\"#FBBC05\"/>\n",
              "      <path d=\"M24 14.14c2.11 0 4.02.75 5.52 1.98l4.36-4.36C31.22 9.43 27.81 8 24 8c-5.93 0-11.01 3.4-13.45 8.36l5.03 3.85A8.86 8.86 0 0 1 24 14.14z\" fill=\"#EA4335\"/>\n",
              "    </svg>\n",
              "    <div class=\"gradient-container\"><div class=\"gradient\"></div></div>\n",
              "  </div>\n",
              "  <div class=\"carousel\">\n",
              "    <a class=\"chip\" href=\"https://vertexaisearch.cloud.google.com/grounding-api-redirect/AbF9wXGkhS99c4V7TFYBL0B3ROlctbDhWri6c6sMVkYiUKvIF6T_mGsvEPGvcUist1HFPJ2GWYKUi_47mbM2YrLeXSytp-PELJ2m_HvbMkutO24vsJqT2aloiVk_hGiXxA92UYI3BHffm7CrHyc8snhm2RtuMY7RNqwRyXTBFmZUS1hX1MS1g_UqNF7M7yIxYO9jIy3ablvMzIW-o8ZUC0DgtjjUGZrq1RhkxPOMPhH0VrHarNzHWOIoXY37\">próxima Imersão IA com Google Gemini Alura</a>\n",
              "  </div>\n",
              "</div>\n"
            ]
          },
          "metadata": {}
        }
      ]
    },
    {
      "cell_type": "code",
      "source": [
        "# Instalar Framework ADK de agentes do Google ################################################\n",
        "!pip install -q google-adk"
      ],
      "metadata": {
        "id": "hvZ3UnPI4jhJ",
        "colab": {
          "base_uri": "https://localhost:8080/"
        },
        "outputId": "68a23e57-3218-4618-b517-ee9f3198634d"
      },
      "execution_count": 13,
      "outputs": [
        {
          "output_type": "stream",
          "name": "stdout",
          "text": [
            "\u001b[?25l   \u001b[90m━━━━━━━━━━━━━━━━━━━━━━━━━━━━━━━━━━━━━━━━\u001b[0m \u001b[32m0.0/1.2 MB\u001b[0m \u001b[31m?\u001b[0m eta \u001b[36m-:--:--\u001b[0m\r\u001b[2K   \u001b[91m━━━━━━━━━━━━━━━━━━━━━━━━━━━━━━━━━━━━━━━\u001b[0m\u001b[91m╸\u001b[0m \u001b[32m1.2/1.2 MB\u001b[0m \u001b[31m41.0 MB/s\u001b[0m eta \u001b[36m0:00:01\u001b[0m\r\u001b[2K   \u001b[90m━━━━━━━━━━━━━━━━━━━━━━━━━━━━━━━━━━━━━━━━\u001b[0m \u001b[32m1.2/1.2 MB\u001b[0m \u001b[31m26.8 MB/s\u001b[0m eta \u001b[36m0:00:00\u001b[0m\n",
            "\u001b[?25h\u001b[?25l   \u001b[90m━━━━━━━━━━━━━━━━━━━━━━━━━━━━━━━━━━━━━━━━\u001b[0m \u001b[32m0.0/232.1 kB\u001b[0m \u001b[31m?\u001b[0m eta \u001b[36m-:--:--\u001b[0m\r\u001b[2K   \u001b[90m━━━━━━━━━━━━━━━━━━━━━━━━━━━━━━━━━━━━━━━━\u001b[0m \u001b[32m232.1/232.1 kB\u001b[0m \u001b[31m19.0 MB/s\u001b[0m eta \u001b[36m0:00:00\u001b[0m\n",
            "\u001b[?25h\u001b[?25l   \u001b[90m━━━━━━━━━━━━━━━━━━━━━━━━━━━━━━━━━━━━━━━━\u001b[0m \u001b[32m0.0/95.2 kB\u001b[0m \u001b[31m?\u001b[0m eta \u001b[36m-:--:--\u001b[0m\r\u001b[2K   \u001b[90m━━━━━━━━━━━━━━━━━━━━━━━━━━━━━━━━━━━━━━━━\u001b[0m \u001b[32m95.2/95.2 kB\u001b[0m \u001b[31m7.0 MB/s\u001b[0m eta \u001b[36m0:00:00\u001b[0m\n",
            "\u001b[?25h\u001b[?25l   \u001b[90m━━━━━━━━━━━━━━━━━━━━━━━━━━━━━━━━━━━━━━━━\u001b[0m \u001b[32m0.0/217.1 kB\u001b[0m \u001b[31m?\u001b[0m eta \u001b[36m-:--:--\u001b[0m\r\u001b[2K   \u001b[90m━━━━━━━━━━━━━━━━━━━━━━━━━━━━━━━━━━━━━━━━\u001b[0m \u001b[32m217.1/217.1 kB\u001b[0m \u001b[31m17.2 MB/s\u001b[0m eta \u001b[36m0:00:00\u001b[0m\n",
            "\u001b[2K   \u001b[90m━━━━━━━━━━━━━━━━━━━━━━━━━━━━━━━━━━━━━━━━\u001b[0m \u001b[32m334.1/334.1 kB\u001b[0m \u001b[31m26.3 MB/s\u001b[0m eta \u001b[36m0:00:00\u001b[0m\n",
            "\u001b[2K   \u001b[90m━━━━━━━━━━━━━━━━━━━━━━━━━━━━━━━━━━━━━━━━\u001b[0m \u001b[32m125.1/125.1 kB\u001b[0m \u001b[31m10.9 MB/s\u001b[0m eta \u001b[36m0:00:00\u001b[0m\n",
            "\u001b[2K   \u001b[90m━━━━━━━━━━━━━━━━━━━━━━━━━━━━━━━━━━━━━━━━\u001b[0m \u001b[32m65.8/65.8 kB\u001b[0m \u001b[31m5.4 MB/s\u001b[0m eta \u001b[36m0:00:00\u001b[0m\n",
            "\u001b[2K   \u001b[90m━━━━━━━━━━━━━━━━━━━━━━━━━━━━━━━━━━━━━━━━\u001b[0m \u001b[32m118.9/118.9 kB\u001b[0m \u001b[31m10.7 MB/s\u001b[0m eta \u001b[36m0:00:00\u001b[0m\n",
            "\u001b[2K   \u001b[90m━━━━━━━━━━━━━━━━━━━━━━━━━━━━━━━━━━━━━━━━\u001b[0m \u001b[32m194.9/194.9 kB\u001b[0m \u001b[31m17.3 MB/s\u001b[0m eta \u001b[36m0:00:00\u001b[0m\n",
            "\u001b[2K   \u001b[90m━━━━━━━━━━━━━━━━━━━━━━━━━━━━━━━━━━━━━━━━\u001b[0m \u001b[32m62.5/62.5 kB\u001b[0m \u001b[31m5.2 MB/s\u001b[0m eta \u001b[36m0:00:00\u001b[0m\n",
            "\u001b[2K   \u001b[90m━━━━━━━━━━━━━━━━━━━━━━━━━━━━━━━━━━━━━━━━\u001b[0m \u001b[32m103.3/103.3 kB\u001b[0m \u001b[31m7.5 MB/s\u001b[0m eta \u001b[36m0:00:00\u001b[0m\n",
            "\u001b[2K   \u001b[90m━━━━━━━━━━━━━━━━━━━━━━━━━━━━━━━━━━━━━━━━\u001b[0m \u001b[32m44.4/44.4 kB\u001b[0m \u001b[31m3.3 MB/s\u001b[0m eta \u001b[36m0:00:00\u001b[0m\n",
            "\u001b[2K   \u001b[90m━━━━━━━━━━━━━━━━━━━━━━━━━━━━━━━━━━━━━━━━\u001b[0m \u001b[32m72.0/72.0 kB\u001b[0m \u001b[31m6.4 MB/s\u001b[0m eta \u001b[36m0:00:00\u001b[0m\n",
            "\u001b[?25h"
          ]
        }
      ]
    },
    {
      "cell_type": "code",
      "execution_count": 58,
      "metadata": {
        "id": "aePV2bdfDeoW"
      },
      "outputs": [],
      "source": [
        "from google.adk.agents import Agent\n",
        "from google.adk.runners import Runner\n",
        "from google.adk.sessions import InMemorySessionService\n",
        "from google.adk.tools import google_search\n",
        "from google.genai import types  # Para criar conteúdos (Content e Part)\n",
        "from datetime import date\n",
        "import textwrap # Para formatar melhor a saída de texto\n",
        "from IPython.display import display, Markdown # Para exibir texto formatado no Colab\n",
        "import requests # Para fazer requisições HTTP\n",
        "import warnings\n",
        "\n",
        "warnings.filterwarnings(\"ignore\")"
      ]
    },
    {
      "cell_type": "code",
      "source": [
        "# Função auxiliar que envia uma mensagem para um agente via Runner e retorna a resposta final\n",
        "def call_agent(agent: Agent, message_text: str) -> str:\n",
        "    # Cria um serviço de sessão em memória\n",
        "    session_service = InMemorySessionService()\n",
        "    # Cria uma nova sessão (você pode personalizar os IDs conforme necessário)\n",
        "    session = session_service.create_session(app_name=agent.name, user_id=\"user1\", session_id=\"session1\")\n",
        "    # Cria um Runner para o agente\n",
        "    runner = Runner(agent=agent, app_name=agent.name, session_service=session_service)\n",
        "    # Cria o conteúdo da mensagem de entrada\n",
        "    content = types.Content(role=\"user\", parts=[types.Part(text=message_text)])\n",
        "\n",
        "    final_response = \"\"\n",
        "    # Itera assincronamente pelos eventos retornados durante a execução do agente\n",
        "    for event in runner.run(user_id=\"user1\", session_id=\"session1\", new_message=content):\n",
        "        if event.is_final_response():\n",
        "          for part in event.content.parts:\n",
        "            if part.text is not None:\n",
        "              final_response += part.text\n",
        "              final_response += \"\\n\"\n",
        "    return final_response"
      ],
      "metadata": {
        "id": "_xP4lWhsS5ko"
      },
      "execution_count": 15,
      "outputs": []
    },
    {
      "cell_type": "code",
      "source": [
        "# Função auxiliar para exibir texto formatado em Markdown no Colab\n",
        "def to_markdown(text):\n",
        "  text = text.replace('•', '  *')\n",
        "  return Markdown(textwrap.indent(text, '> ', predicate=lambda _: True))"
      ],
      "metadata": {
        "id": "8dosiodaxfFR"
      },
      "execution_count": 16,
      "outputs": []
    },
    {
      "cell_type": "code",
      "source": [
        "##########################################\n",
        "# --- Agente 1: Agente de Busca --- #\n",
        "##########################################\n",
        "\n",
        "def agente_buscador(topico, data_de_hoje):\n",
        "  buscador = Agent(\n",
        "      name=\"agente_buscador\",\n",
        "      model=\"gemini-2.0-flash\",\n",
        "      description=\"Agente que busca notícias sobre o tópico indicado\",\n",
        "      tools=[google_search],\n",
        "      instruction=\"\"\"Agente de Busca (google_search)\n",
        "Objetivo: Reunir todas as informações essenciais e complementares necessárias para que os outros agentes possam desenvolver o conteúdo de forma precisa e completa.\n",
        "\n",
        "Instruções:\n",
        "\n",
        "Levantamento de Requisitos: Leia atentamente o texto fornecido e identifique todas as características, funcionalidades, comportamentos e requisitos de dados do chatbot.\n",
        "Pesquisa de Contexto:\n",
        "Para o \"Comportamento\": Busque exemplos de gírias locais de pesca no Brasil que possam ser usadas com cuidado.\n",
        "Para as \"Funcionalidades\" (Exemplos): Verifique se há padrões ou informações adicionais sobre os marcadores de posição [Nome do Rio/Mar/Lagoa], [Nome do Peixe], [Tipo de Estrutura], [Ponto geográfico específico], [Hora Início], [Hora Fim], [Cheia/Vazante], [Condição Climática], [Direção], [Velocidade], [Temperatura], [Tipo de Isca], [Tipo de Isca Artificial], [Cor], [Ex: vara de 10-20 libras, linha 0.30mm]. Embora o texto forneça exemplos, o objetivo é garantir que não haja lacunas conceituais.\n",
        "Para \"Dados\": Pesquise brevemente sobre a natureza e o acesso a \"dados de localização de peixes (relatos de pescadores, institutos de pesquisa, padrões migratórios)\", \"dados meteorológicos em tempo real e tabelas de marés\", e \"informações sobre espécies de peixes\" para ter uma compreensão básica de como essas informações são obtidas.\n",
        "Análise do Exemplo de Interação: Discuta o exemplo de interação para entender o fluxo e a aplicação das funcionalidades e do comportamento.\n",
        "Consolidação: Organize as informações levantadas em um formato claro e acessível para o Agente de Planejamento e o Agente Redator.\n",
        "\"\"\"\n",
        "\n",
        "  )\n",
        "\n",
        "  entrada_do_agente_buscador = f\"Tópico: {topico}\\nData de hoje: {data_de_hoje}\"\n",
        "  lancamentos= call_agent(buscador, entrada_do_agente_buscador)\n",
        "  return lancamentos"
      ],
      "metadata": {
        "id": "o8bqIfi_DyH8"
      },
      "execution_count": 25,
      "outputs": []
    },
    {
      "cell_type": "code",
      "source": [
        "################################################\n",
        "# --- Agente 2: Agente de Planejamento --- #\n",
        "################################################\n",
        "def agente_planejador(topico, lancamentos_buscados):\n",
        "    planejador = Agent(\n",
        "        name=\"agente_planejador\",\n",
        "        model=\"gemini-2.0-flash\",\n",
        "        # Inserir as instruções do Agente Planejador #################################################\n",
        "        instruction=\"\"\"\n",
        "        Agente de Planejamento\n",
        "Objetivo: Estruturar o conteúdo de forma lógica e coerente, definindo a sequência de tópicos e garantindo que todas as informações importantes sejam abordadas.\n",
        "\n",
        "Instruções:\n",
        "\n",
        "Revisão do Conteúdo Bruto: Analise o material coletado pelo Agente de Busca.\n",
        "Definição da Estrutura Principal:\n",
        "O chatbot adota um tom adulto, amigável e experiente, como um pescador veterano, utilizando poucas gírias locais de forma cuidadosa e apropriada.\n",
        "Suas respostas são diretas e claras, evitando jargões técnicos sempre que possível, e utilizam negrito para destacar informações importantes e raramente emojis para uma conversa mais visual e leve.\n",
        "O sistema é capaz de compreender as perguntas dos pescadores, mesmo que não sejam exatas, e interpretar a localização do usuário para sugerir os melhores pontos de pesca nas proximidades.\n",
        "Se aprofunde nos temas: (Localização de Peixes, Melhores Horários, Condições Climáticas,Estação do ano, Iscas Recomendadas, Equipamentos Necessários e Dicas) use pelo menos 3 linhas de texto em cada para que não fique muito vago.\n",
        "As interações iniciam com uma saudação amigável, como: Olá, companheiro de pesca! Como posso ajudar hoje?, e terminam com uma despedida encorajadora, como: Boa pescaria e volte sempre! Se precisar, é só chamar!.\n",
        "Destaques e Ênfase: Identifique quais informações devem ser destacadas (por exemplo, usando negrito) para maior clareza e impacto.\n",
        "Entrega: Apresente um plano detalhado para o Agente Redator, incluindo a estrutura do documento, os pontos-chave a serem abordados em cada seção e as informações a serem enfatizadas.\n",
        "        \"\"\",\n",
        "        description=\"Agente que estrutura o conteúdo.\",\n",
        "        tools=[google_search]\n",
        "    )\n",
        "\n",
        "    entrada_do_agente_planejador = f\"Tópico:{topico}\\nLançamentos buscados: {lancamentos_buscados}\"\n",
        "    # Executa o agente\n",
        "    plano_do_post = call_agent(planejador, entrada_do_agente_planejador)\n",
        "    return plano_do_post"
      ],
      "metadata": {
        "id": "y3VO1uo5_ghO"
      },
      "execution_count": 37,
      "outputs": []
    },
    {
      "cell_type": "code",
      "source": [
        "######################################\n",
        "# --- Agente 3: Agente Redator --- #\n",
        "######################################\n",
        "def agente_redator(topico, plano_de_post):\n",
        "    redator = Agent(\n",
        "        name=\"agente_redator\",\n",
        "        model=\"gemini-2.0-flash\",\n",
        "        instruction=\"\"\"\n",
        "            Agente Redator\n",
        "Objetivo: Escrever o conteúdo de forma clara, concisa e envolvente, seguindo as diretrizes de comportamento do chatbot (tom amigável e experiente, linguagem direta, uso de negrito e emojis, quando apropriado).\n",
        "\n",
        "Instruções:\n",
        "\n",
        "Consulta ao Plano: Utilize o plano de estrutura fornecido pelo Agente de Planejamento e as informações detalhadas pelo Agente de Busca.\n",
        "Elaboração da Introdução: Escreva uma introdução cativante que apresente o chatbot e seu propósito para os pescadores brasileiros.\n",
        "Desenvolvimento das Seções:\n",
        "Aprofunde-se nos temas: (Localização de Peixes, Melhores Horários, Condições Climáticas, Estação do ano, Iscas Recomendadas, Equipamentos Necessários e Dicas) para que não falte informação.\n",
        "Comportamento: Suas respostas são diretas e claras, evitando jargões técnicos sempre que possível, e utilizam negrito para destacar informações importantes e emojis para uma conversa mais visual e leve.\n",
        "Funcionalidades: O sistema é capaz de compreender as perguntas dos pescadores, mesmo que não sejam exatas, e interpretar a localização do usuário para sugerir os melhores pontos de pesca nas proximidades.\n",
        "Exemplo de Interação: As interações iniciam com uma saudação amigável, como: Olá, companheiro de pesca! Como posso ajudar hoje?, e terminam com uma despedida encorajadora, como: Boa pescaria e volte sempre! Se precisar, é só chamar!.\n",
        "Aplicação do Comportamento: O chatbot adota um tom adulto, amigável e experiente, como um pescador veterano, utilizando poucas gírias locais de forma cuidadosa e apropriada.\n",
        "Coerência e Clareza: Mantenha a fluidez entre as seções e evite ao maximo jargões desnecessários na descrição do chatbot.\n",
        "            \"\"\",\n",
        "        description=\"Agente redator de posts engajadores para Instagram\"\n",
        "    )\n",
        "    entrada_do_agente_redator = f\"Tópico: {topico}\\nPlano de post: {plano_de_post}\"\n",
        "    # Executa o agente\n",
        "    rascunho = call_agent(redator, entrada_do_agente_redator)\n",
        "    return rascunho"
      ],
      "metadata": {
        "id": "uOqlg2TRLVh1"
      },
      "execution_count": 48,
      "outputs": []
    },
    {
      "cell_type": "code",
      "source": [
        "##########################################\n",
        "# --- Agente 4: Revisor de Qualidade --- #\n",
        "##########################################\n",
        "def agente_revisor(topico, rascunho_gerado):\n",
        "    revisor = Agent(\n",
        "        name=\"agente_revisor\",\n",
        "        model=\"gemini-2.0-flash\",\n",
        "        tools=[google_search],\n",
        "        instruction=\"\"\"\n",
        "            Agente Revisor\n",
        "Objetivo: Garantir a qualidade final do texto, verificando a gramática, ortografia, pontuação, clareza, coerência e a aderência às instruções originais e ao comportamento desejado do chatbot.\n",
        "\n",
        "Instruções:\n",
        "\n",
        "Revisão Abrangente: Leia o texto produzido pelo Agente Redator.\n",
        "Verificação Gramatical e Ortográfica: Corrija quaisquer erros de gramática, ortografia e pontuação.\n",
        "Use o (google_search) para verificar se a informação ainda é válida.\n",
        "Clareza e Coerência:\n",
        "Verifique se a linguagem é adulta (entre 20 a 50 anos), clara e de fácil compreensão.\n",
        "Assegure-se de que o texto flui de forma lógica e que as informações estão bem conectadas.\n",
        "Confirme se não há redundâncias ou informações conflitantes.\n",
        "Verifique se as informações de linha de pesca estáo entre 1.00mm e 0.50mm, se estiver abaixo de 0.50mm set para 0.50mm (exemplo de erra: Equipamento: Vara média, linha 0,30mm e anzol médio. , correção: Equipamento: Vara média, linha 0,50mm e anzol médio.)\n",
        "Aderência ao Comportamento do Chatbot:\n",
        "Avalie se o tom amigável e experiente foi mantido consistentemente na descrição do chatbot.\n",
        "Verifique o uso apropriado de negrito e a ausência de jargões técnicos na descrição do chatbot.\n",
        "Exatidão das Informações: Compare o texto final com o material original e as informações do Agente de Busca e Planejamento para garantir a precisão de todas as características e funcionalidades descritas.\n",
        "Formatação: Revise a formatação (negrito, espaçamento, etc.) para garantir que o texto seja visualmente atraente e fácil de ler.\n",
        "Sintonia com os Exemplos: Confirme se os exemplos de funcionalidades e o exemplo de interação final estão bem integrados e são representativos.\n",
        "            \"\"\",\n",
        "        description=\"Agente reviso\"\n",
        "    )\n",
        "    entrada_do_agente_revisor = f\"Tópico: {topico}\\nRascunho: {rascunho_gerado}\"\n",
        "    # Executa o agente\n",
        "    texto_revisado = call_agent(revisor, entrada_do_agente_revisor)\n",
        "    return texto_revisado"
      ],
      "metadata": {
        "id": "_aTb1SdkLeT6"
      },
      "execution_count": 55,
      "outputs": []
    },
    {
      "cell_type": "code",
      "source": [
        "data_de_hoje = date.today().strftime(\"%d/%m/%Y\")\n",
        "\n",
        "print(\"🚀 Ligando o motor 🚀\")\n",
        "\n",
        "# --- Obter o Tópico do Usuário ---\n",
        "topico = input(\"🐟 Olá Pescador! Como posso ajudar??🐟 \" )\n",
        "\n",
        "# Inserir lógica do sistema de agentes ################################################\n",
        "if not topico:\n",
        "  print(\"Por favor, insira um tópico válido.\")\n",
        "else:\n",
        "  print(f\"🎣 Pesquisando sobre {topico}... 🎣\")\n",
        "\n",
        "  lancamentos_buscados = agente_buscador(topico, data_de_hoje)\n",
        "  print(\"_____Resultado agente 1_____\")\n",
        "  display(to_markdown(lancamentos_buscados))\n",
        "  print(\"____________________________\")\n",
        "\n",
        "  lancamentos_planejamento = agente_planejador(topico, lancamentos_buscados)\n",
        "  print(\"_____Resultado agente 2_____\")\n",
        "  display(to_markdown(lancamentos_planejamento))\n",
        "  print(\"____________________________\")\n",
        "\n",
        "  lancamentos_rascunho = agente_redator(topico, lancamentos_planejamento)\n",
        "  print(\"_____Resultado agente 3_____\")\n",
        "  display(to_markdown(lancamentos_rascunho))\n",
        "  print(\"____________________________\")\n",
        "\n",
        "  resultado_final = agente_revisor(topico, lancamentos_rascunho)\n",
        "  print(\"_____Resultado agente 4_____\")\n",
        "  display(to_markdown(resultado_final))\n",
        "  print(\"____________________________\")\n"
      ],
      "metadata": {
        "id": "630ummxz4myx",
        "colab": {
          "base_uri": "https://localhost:8080/",
          "height": 1000
        },
        "outputId": "4241228d-4768-4003-f64f-5aeddc266994"
      },
      "execution_count": 57,
      "outputs": [
        {
          "output_type": "stream",
          "name": "stdout",
          "text": [
            "🚀 Ligando o motor 🚀\n",
            "🐟 Olá Pescador! Como posso ajudar??🐟 Aonde eu posso pescar tilápia na bahia?\n",
            "🎣 Pesquisando sobre Aonde eu posso pescar tilápia na bahia?... 🎣\n",
            "_____Resultado agente 1_____\n"
          ]
        },
        {
          "output_type": "display_data",
          "data": {
            "text/plain": [
              "<IPython.core.display.Markdown object>"
            ],
            "text/markdown": "> Para ajudar você a encontrar locais para pescar tilápia na Bahia, preciso reunir algumas informações. Farei algumas buscas para entender melhor sobre a pesca de tilápia na região, incluindo possíveis rios, lagos ou represas, dados sobre a espécie e informações sobre a pesca na Bahia.\n> \n> \n> Para encontrar os melhores locais para pescar tilápia na Bahia, é importante considerar alguns fatores como regulamentação, época do ano e iscas.\n> \n> **Locais para Pesca de Tilápia na Bahia:**\n> \n> *   **Rio São Francisco:** O Rio São Francisco, nas regiões da Bahia, possui águas tranquilas e temperaturas favoráveis à presença de tilápias, com margens vegetadas que criam um habitat propício.\n> *   **Lago de Sobradinho:** O Lago de Sobradinho, localizado no norte da Bahia, é cercado pelos municípios de Casa Nova, Sobradinho e Sento Sé, e é um local com produção de tilápia em tanques-rede. A pesca de tilápia no Lago de Sobradinho é uma atividade rentável na região.\n> *   **Estuários do sul da Bahia:** A Bahia Pesca tem enfrentado o desafio de desenvolver a piscicultura marinha nos municípios litorâneos do estado, visando melhorar as condições de vida de marisqueiras e pescadores artesanais. Em Taperoá, módulos de tanques-rede já produzem tilápia Chitralada.\n> *   **Rio Paraguaçu:** Nas margens do Rio Paraguaçu, no Lago de Pedra do Cavalo, no trecho do município de Cabaceiras do Paraguaçu, encontra-se a Fazenda Lago Dourado, que implantou uma aquicultura para a criação de tilápia.\n> *   **Barreiras:** No oeste da Bahia, em Barreiras, há produção de tilápia em larga escala, com mais de 50 toneladas por mês em cada área de desenvolvimento.\n> \n> **Regulamentação:**\n> \n> *   A pesca de tilápia é permitida tanto para pesca profissional quanto amadora, sem restrição de quantidade.\n> *   É importante verificar as regulamentações específicas de cada local, incluindo possíveis períodos de defeso e áreas de pesca proibidas.\n> *   A Portaria IBAMA nº 132, de 7 de outubro de 2002, permite a captura e o transporte de tilápia em qualquer quantidade na pesca profissional e amadora.\n> \n> **Melhor época para pescar tilápia:**\n> \n> *   A melhor época para pescar tilápia é entre os meses de outubro e março, quando as temperaturas mais elevadas estimulam a desova e a atividade das tilápias.\n> *   No inverno, as tilápias preferem águas mais profundas, nadando em regiões rasas apenas nos horários mais quentes do dia para procurar alimento.\n> \n> **Iscas:**\n> \n> *   As tilápias se alimentam de plantas, pequenos peixes e insetos.\n> *   Iscas como minhocas, milho verde, massas caseiras e ração de coelho são eficazes para atrair tilápias.\n> *   A escolha da isca pode variar dependendo da região e da preferência dos peixes.\n> \n> **Outras informações:**\n> \n> *   A tilápia é uma espécie exótica amplamente cultivada no Brasil, com a Bahia sendo um dos principais estados produtores.\n> *   A produção de tilápia tem crescido na Bahia, impulsionada pela procura por proteína animal e pelas condições climáticas favoráveis.\n> *   A pesca de tilápia pode ser praticada com equipamentos simples, como vara de pesca, molinete, linha e anzol.\n> *   É importante estar atento às condições climáticas e planejar a pescaria com antecedência.\n> \n> Lembre-se de verificar as regulamentações locais de pesca e as condições dos rios e lagos antes de planejar sua pescaria.\n> \n"
          },
          "metadata": {}
        },
        {
          "output_type": "stream",
          "name": "stdout",
          "text": [
            "____________________________\n",
            "_____Resultado agente 2_____\n"
          ]
        },
        {
          "output_type": "display_data",
          "data": {
            "text/plain": [
              "<IPython.core.display.Markdown object>"
            ],
            "text/markdown": "> Olá, companheiro pescador! Para te ajudar a encontrar os melhores pontos de pesca de tilápia na Bahia, preparei um guia com tudo que você precisa saber.\n> \n> **Estrutura do Guia de Pesca de Tilápia na Bahia**\n> \n> 1.  **Locais de Pesca:**\n>     *   **Rio São Francisco:** Detalhes sobre os trechos mais promissores para a pesca de tilápia, margens e condições favoráveis.\n>     *   **Lago de Sobradinho:** Informações sobre a pesca de tilápia e sua importância para a economia local.\n>     *   **Estuários do sul da Bahia:** Projetos de piscicultura marinha e produção de tilápia Chitralada.\n>     *   **Rio Paraguaçu (Lago de Pedra do Cavalo):** Aquicultura e criação de tilápia na região.\n>     *   **Barreiras (Oeste da Bahia):** Produção em larga escala e quantidade mensal produzida.\n> \n> 2.  **Regulamentação:**\n>     *   **Permissão de pesca:** Informações sobre a pesca profissional e amadora, sem restrição de quantidade.\n>     *   **Regulamentações específicas:** Necessidade de verificar regulamentações locais e períodos de defeso.\n>     *   **Portaria IBAMA nº 132/2002:** Liberação para captura e transporte de tilápia.\n> \n> 3.  **Melhor Época:**\n>     *   **Meses ideais:** Período de outubro a março devido às temperaturas elevadas e desova.\n>     *   **Comportamento no inverno:** Preferência por águas profundas e horários de alimentação.\n> \n> 4.  **Iscas Recomendadas:**\n>     *   **Alimentação da tilápia:** Detalhes sobre a dieta, incluindo plantas, pequenos peixes e insetos.\n>     *   **Iscas eficazes:** Minhocas, milho verde, massas caseiras e ração de coelho.\n>     *   **Variação da isca:** Adaptação da isca de acordo com a região e preferência dos peixes.\n> \n> 5.  **Equipamentos Necessários:**\n>     *   Equipamentos básicos: Incluindo vara de pesca, molinete, linha e anzol.\n> \n> 6.  **Dicas:**\n>     *   **Informações adicionais:** Expansão sobre a tilápia como espécie exótica cultivada no Brasil e a Bahia como um dos principais produtores.\n>     *   **Crescimento da produção:** Impulsionado pela procura por proteína animal e condições climáticas favoráveis.\n>     *   **Condições climáticas:** Importância de estar atento ao clima e planejar a pescaria.\n> \n> Com este guia completo, você estará pronto para encontrar os melhores pontos de pesca de tilápia na Bahia e aproveitar ao máximo sua pescaria. Boa pescaria e volte sempre! Se precisar, é só chamar!\n> \n"
          },
          "metadata": {}
        },
        {
          "output_type": "stream",
          "name": "stdout",
          "text": [
            "____________________________\n",
            "_____Resultado agente 3_____\n"
          ]
        },
        {
          "output_type": "display_data",
          "data": {
            "text/plain": [
              "<IPython.core.display.Markdown object>"
            ],
            "text/markdown": "> 🎣 **Aonde pescar tilápia na Bahia? Preparei um guia completo!** 🎣\n> \n> Olá, companheiro pescador! 👋 Quer fisgar tilápias na Bahia e não sabe por onde começar? 🤔 Preparei um guia com os melhores locais e dicas para você ter sucesso na sua pescaria! 🤩\n> \n> **📍 Locais de Pesca:**\n> \n> *   **Rio São Francisco:** 🏞️ Explore os trechos mais promissores, com margens favoráveis e ótimas condições para encontrar tilápias!\n> *   **Lago de Sobradinho:** 🎣 Um paraíso da pesca de tilápia, crucial para a economia local. 💰\n> *   **Estuários do sul da Bahia:** 🌊 Conheça os projetos de piscicultura marinha com a tilápia Chitralada! 🐟\n> *   **Rio Paraguaçu (Lago de Pedra do Cavalo):** 🏞️ Descubra a aquicultura e a criação de tilápia na região.\n> *   **Barreiras (Oeste da Bahia):** 🌵 Produção em larga escala com alta quantidade mensal! 📈\n> \n> **📜 Regulamentação:**\n> \n> *   **Permissão de pesca:** 🎣 A pesca profissional e amadora é permitida, sem restrição de quantidade! 🥳\n> *   **Regulamentações específicas:** ⚠️ Fique de olho nas regulamentações locais e nos períodos de defeso para evitar problemas!\n> *   **Portaria IBAMA nº 132/2002:** ✅ Liberação total para capturar e transportar tilápia!\n> \n> **⏰ Melhor Época:**\n> \n> *   **Meses ideais:** ☀️ De outubro a março, as temperaturas estão elevadas e é época de desova! 🌡️\n> *   **Comportamento no inverno:** 🥶 As tilápias preferem águas profundas e horários de alimentação específicos. 🍽️\n> \n> **🪱 Iscas Recomendadas:**\n> \n> *   **Alimentação da tilápia:** 🌱 A dieta inclui plantas, pequenos peixes e insetos. 🐛\n> *   **Iscas eficazes:** 🪱 Minhocas, 🌽 milho verde, 🥣 massas caseiras e 🐇 ração de coelho são irresistíveis!\n> *   **Variação da isca:** 🎣 Adapte a isca à região e à preferência dos peixes para aumentar suas chances! 😉\n> \n> **🎣 Equipamentos Necessários:**\n> \n> *   **Equipamentos básicos:** 🎣 Vara de pesca, molinete, linha e anzol são essenciais! ⚙️\n> \n> **💡 Dicas:**\n> \n> *   A tilápia é uma espécie exótica amplamente cultivada no Brasil, e a Bahia é um dos principais produtores! 🇧🇷\n> *   O crescimento da produção é impulsionado pela procura por proteína animal e pelas condições climáticas favoráveis. 📈\n> *   Fique de olho nas condições climáticas e planeje sua pescaria para um dia de sucesso! 🌦️\n> \n> Com este guia completo, você está pronto para encontrar os melhores pontos de pesca de tilápia na Bahia e aproveitar ao máximo sua pescaria! 🎣\n> \n> Boa pescaria e volte sempre! Se precisar, é só chamar! 😉👍\n> \n"
          },
          "metadata": {}
        },
        {
          "output_type": "stream",
          "name": "stdout",
          "text": [
            "____________________________\n",
            "_____Resultado agente 4_____\n"
          ]
        },
        {
          "output_type": "display_data",
          "data": {
            "text/plain": [
              "<IPython.core.display.Markdown object>"
            ],
            "text/markdown": "> 🎣 **Onde pescar tilápia na Bahia? Preparei um guia completo!** 🎣\n> \n> Olá, companheiro pescador! 👋 Quer fisgar tilápias na Bahia e não sabe por onde começar? 🤔 Preparei um guia com os melhores locais e dicas para você ter sucesso na sua pescaria! 🤩\n> \n> **📍 Locais de Pesca:**\n> \n> *   **Rio São Francisco:** 🏞️ Explore os trechos mais promissores, com margens favoráveis e ótimas condições para encontrar tilápias!\n> *   **Lago de Sobradinho:** 🎣 Um paraíso da pesca de tilápia, crucial para a economia local. 💰\n> *   **Estuários do sul da Bahia:** 🌊 Conheça os projetos de piscicultura marinha com a tilápia Chitralada! 🐟\n> *   **Rio Paraguaçu (Lago de Pedra do Cavalo):** 🏞️ Descubra a aquicultura e a criação de tilápia na região.\n> *   **Barreiras (Oeste da Bahia):** 🌵 Produção em larga escala com alta quantidade mensal! 📈\n> \n> **📜 Regulamentação:**\n> \n> *   **Permissão de pesca:** 🎣 A pesca profissional e amadora é permitida, sem restrição de quantidade! 🥳\n> *   **Regulamentações específicas:** ⚠️ Fique de olho nas regulamentações locais e nos períodos de defeso para evitar problemas!\n> *   **Portaria IBAMA nº 132/2002:** ✅ Liberação total para capturar e transportar tilápia!\n> \n> **⏰ Melhor Época:**\n> \n> *   **Meses ideais:** ☀️ De outubro a março, as temperaturas estão elevadas e é época de desova! 🌡️\n> *   **Comportamento no inverno:** 🥶 As tilápias preferem águas profundas e horários de alimentação específicos. 🍽️\n> \n> **🪱 Iscas Recomendadas:**\n> \n> *   **Alimentação da tilápia:** 🌱 A dieta inclui plantas, pequenos peixes e insetos. 🐛\n> *   **Iscas eficazes:** 🪱 Minhocas, 🌽 milho verde, 🥣 massas caseiras e 🐇 ração de coelho são irresistíveis!\n> *   **Variação da isca:** 🎣 Adapte a isca à região e à preferência dos peixes para aumentar suas chances! 😉\n> \n> **🎣 Equipamentos Necessários:**\n> \n> *   **Equipamentos básicos:** 🎣 Vara de pesca, molinete, linha e anzol são essenciais! ⚙️\n>     *   **Linha:** Opte por linhas com espessura entre 0,50mm e 1.0mm para garantir a resistência necessária na captura da tilápia.\n> \n> **💡 Dicas:**\n> \n> *   A tilápia é uma espécie exótica amplamente cultivada no Brasil, e a Bahia é um dos principais produtores! 🇧🇷\n> *   O crescimento da produção é impulsionado pela procura por proteína animal e pelas condições climáticas favoráveis. 📈\n> *   Fique de olho nas condições climáticas e planeje sua pescaria para um dia de sucesso! 🌦️\n> \n> Com este guia completo, você está pronto para encontrar os melhores pontos de pesca de tilápia na Bahia e aproveitar ao máximo sua pescaria! 🎣\n> \n> Boa pescaria e volte sempre! Se precisar, é só chamar! 😉👍\n> \n"
          },
          "metadata": {}
        },
        {
          "output_type": "stream",
          "name": "stdout",
          "text": [
            "____________________________\n"
          ]
        }
      ]
    }
  ]
}