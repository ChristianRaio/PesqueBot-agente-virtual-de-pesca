{
  "nbformat": 4,
  "nbformat_minor": 0,
  "metadata": {
    "colab": {
      "provenance": []
    },
    "kernelspec": {
      "name": "python3",
      "display_name": "Python 3"
    },
    "language_info": {
      "name": "python"
    }
  },
  "cells": [
    {
      "cell_type": "code",
      "source": [
        "%pip -q install google-genai"
      ],
      "metadata": {
        "id": "UCCbECexLk_h"
      },
      "execution_count": 1,
      "outputs": []
    },
    {
      "cell_type": "code",
      "source": [
        "# Configura a API Key do Google Gemini\n",
        "\n",
        "import os\n",
        "from google.colab import userdata\n",
        "\n",
        "os.environ[\"GOOGLE_API_KEY\"] = userdata.get('GOOGLE_API_KEY')"
      ],
      "metadata": {
        "id": "NfCqHo1tLk8P"
      },
      "execution_count": 2,
      "outputs": []
    },
    {
      "cell_type": "code",
      "source": [
        "# Configura o cliente da SDK do Gemini\n",
        "\n",
        "from google import genai\n",
        "\n",
        "client = genai.Client()\n",
        "\n",
        "MODEL_ID = \"gemini-2.0-flash\""
      ],
      "metadata": {
        "id": "bV4w0H5TLk5g"
      },
      "execution_count": 3,
      "outputs": []
    },
    {
      "cell_type": "code",
      "source": [
        "from IPython.display import HTML, Markdown"
      ],
      "metadata": {
        "id": "HwVP7Xi34Zuw"
      },
      "execution_count": 59,
      "outputs": []
    },
    {
      "cell_type": "code",
      "source": [
        "# Instalar Framework ADK de agentes do Google ################################################\n",
        "!pip install -q google-adk"
      ],
      "metadata": {
        "id": "hvZ3UnPI4jhJ",
        "colab": {
          "base_uri": "https://localhost:8080/"
        },
        "outputId": "68a23e57-3218-4618-b517-ee9f3198634d"
      },
      "execution_count": 13,
      "outputs": [
        {
          "output_type": "stream",
          "name": "stdout",
          "text": [
            "\u001b[?25l   \u001b[90m━━━━━━━━━━━━━━━━━━━━━━━━━━━━━━━━━━━━━━━━\u001b[0m \u001b[32m0.0/1.2 MB\u001b[0m \u001b[31m?\u001b[0m eta \u001b[36m-:--:--\u001b[0m\r\u001b[2K   \u001b[91m━━━━━━━━━━━━━━━━━━━━━━━━━━━━━━━━━━━━━━━\u001b[0m\u001b[91m╸\u001b[0m \u001b[32m1.2/1.2 MB\u001b[0m \u001b[31m41.0 MB/s\u001b[0m eta \u001b[36m0:00:01\u001b[0m\r\u001b[2K   \u001b[90m━━━━━━━━━━━━━━━━━━━━━━━━━━━━━━━━━━━━━━━━\u001b[0m \u001b[32m1.2/1.2 MB\u001b[0m \u001b[31m26.8 MB/s\u001b[0m eta \u001b[36m0:00:00\u001b[0m\n",
            "\u001b[?25h\u001b[?25l   \u001b[90m━━━━━━━━━━━━━━━━━━━━━━━━━━━━━━━━━━━━━━━━\u001b[0m \u001b[32m0.0/232.1 kB\u001b[0m \u001b[31m?\u001b[0m eta \u001b[36m-:--:--\u001b[0m\r\u001b[2K   \u001b[90m━━━━━━━━━━━━━━━━━━━━━━━━━━━━━━━━━━━━━━━━\u001b[0m \u001b[32m232.1/232.1 kB\u001b[0m \u001b[31m19.0 MB/s\u001b[0m eta \u001b[36m0:00:00\u001b[0m\n",
            "\u001b[?25h\u001b[?25l   \u001b[90m━━━━━━━━━━━━━━━━━━━━━━━━━━━━━━━━━━━━━━━━\u001b[0m \u001b[32m0.0/95.2 kB\u001b[0m \u001b[31m?\u001b[0m eta \u001b[36m-:--:--\u001b[0m\r\u001b[2K   \u001b[90m━━━━━━━━━━━━━━━━━━━━━━━━━━━━━━━━━━━━━━━━\u001b[0m \u001b[32m95.2/95.2 kB\u001b[0m \u001b[31m7.0 MB/s\u001b[0m eta \u001b[36m0:00:00\u001b[0m\n",
            "\u001b[?25h\u001b[?25l   \u001b[90m━━━━━━━━━━━━━━━━━━━━━━━━━━━━━━━━━━━━━━━━\u001b[0m \u001b[32m0.0/217.1 kB\u001b[0m \u001b[31m?\u001b[0m eta \u001b[36m-:--:--\u001b[0m\r\u001b[2K   \u001b[90m━━━━━━━━━━━━━━━━━━━━━━━━━━━━━━━━━━━━━━━━\u001b[0m \u001b[32m217.1/217.1 kB\u001b[0m \u001b[31m17.2 MB/s\u001b[0m eta \u001b[36m0:00:00\u001b[0m\n",
            "\u001b[2K   \u001b[90m━━━━━━━━━━━━━━━━━━━━━━━━━━━━━━━━━━━━━━━━\u001b[0m \u001b[32m334.1/334.1 kB\u001b[0m \u001b[31m26.3 MB/s\u001b[0m eta \u001b[36m0:00:00\u001b[0m\n",
            "\u001b[2K   \u001b[90m━━━━━━━━━━━━━━━━━━━━━━━━━━━━━━━━━━━━━━━━\u001b[0m \u001b[32m125.1/125.1 kB\u001b[0m \u001b[31m10.9 MB/s\u001b[0m eta \u001b[36m0:00:00\u001b[0m\n",
            "\u001b[2K   \u001b[90m━━━━━━━━━━━━━━━━━━━━━━━━━━━━━━━━━━━━━━━━\u001b[0m \u001b[32m65.8/65.8 kB\u001b[0m \u001b[31m5.4 MB/s\u001b[0m eta \u001b[36m0:00:00\u001b[0m\n",
            "\u001b[2K   \u001b[90m━━━━━━━━━━━━━━━━━━━━━━━━━━━━━━━━━━━━━━━━\u001b[0m \u001b[32m118.9/118.9 kB\u001b[0m \u001b[31m10.7 MB/s\u001b[0m eta \u001b[36m0:00:00\u001b[0m\n",
            "\u001b[2K   \u001b[90m━━━━━━━━━━━━━━━━━━━━━━━━━━━━━━━━━━━━━━━━\u001b[0m \u001b[32m194.9/194.9 kB\u001b[0m \u001b[31m17.3 MB/s\u001b[0m eta \u001b[36m0:00:00\u001b[0m\n",
            "\u001b[2K   \u001b[90m━━━━━━━━━━━━━━━━━━━━━━━━━━━━━━━━━━━━━━━━\u001b[0m \u001b[32m62.5/62.5 kB\u001b[0m \u001b[31m5.2 MB/s\u001b[0m eta \u001b[36m0:00:00\u001b[0m\n",
            "\u001b[2K   \u001b[90m━━━━━━━━━━━━━━━━━━━━━━━━━━━━━━━━━━━━━━━━\u001b[0m \u001b[32m103.3/103.3 kB\u001b[0m \u001b[31m7.5 MB/s\u001b[0m eta \u001b[36m0:00:00\u001b[0m\n",
            "\u001b[2K   \u001b[90m━━━━━━━━━━━━━━━━━━━━━━━━━━━━━━━━━━━━━━━━\u001b[0m \u001b[32m44.4/44.4 kB\u001b[0m \u001b[31m3.3 MB/s\u001b[0m eta \u001b[36m0:00:00\u001b[0m\n",
            "\u001b[2K   \u001b[90m━━━━━━━━━━━━━━━━━━━━━━━━━━━━━━━━━━━━━━━━\u001b[0m \u001b[32m72.0/72.0 kB\u001b[0m \u001b[31m6.4 MB/s\u001b[0m eta \u001b[36m0:00:00\u001b[0m\n",
            "\u001b[?25h"
          ]
        }
      ]
    },
    {
      "cell_type": "code",
      "execution_count": 58,
      "metadata": {
        "id": "aePV2bdfDeoW"
      },
      "outputs": [],
      "source": [
        "from google.adk.agents import Agent\n",
        "from google.adk.runners import Runner\n",
        "from google.adk.sessions import InMemorySessionService\n",
        "from google.adk.tools import google_search\n",
        "from google.genai import types  # Para criar conteúdos (Content e Part)\n",
        "from datetime import date\n",
        "import textwrap # Para formatar melhor a saída de texto\n",
        "from IPython.display import display, Markdown # Para exibir texto formatado no Colab\n",
        "import requests # Para fazer requisições HTTP\n",
        "import warnings\n",
        "\n",
        "warnings.filterwarnings(\"ignore\")"
      ]
    },
    {
      "cell_type": "code",
      "source": [
        "# Função auxiliar que envia uma mensagem para um agente via Runner e retorna a resposta final\n",
        "def call_agent(agent: Agent, message_text: str) -> str:\n",
        "    # Cria um serviço de sessão em memória\n",
        "    session_service = InMemorySessionService()\n",
        "    # Cria uma nova sessão (você pode personalizar os IDs conforme necessário)\n",
        "    session = session_service.create_session(app_name=agent.name, user_id=\"user1\", session_id=\"session1\")\n",
        "    # Cria um Runner para o agente\n",
        "    runner = Runner(agent=agent, app_name=agent.name, session_service=session_service)\n",
        "    # Cria o conteúdo da mensagem de entrada\n",
        "    content = types.Content(role=\"user\", parts=[types.Part(text=message_text)])\n",
        "\n",
        "    final_response = \"\"\n",
        "    # Itera assincronamente pelos eventos retornados durante a execução do agente\n",
        "    for event in runner.run(user_id=\"user1\", session_id=\"session1\", new_message=content):\n",
        "        if event.is_final_response():\n",
        "          for part in event.content.parts:\n",
        "            if part.text is not None:\n",
        "              final_response += part.text\n",
        "              final_response += \"\\n\"\n",
        "    return final_response"
      ],
      "metadata": {
        "id": "_xP4lWhsS5ko"
      },
      "execution_count": 15,
      "outputs": []
    },
    {
      "cell_type": "code",
      "source": [
        "# Função auxiliar para exibir texto formatado em Markdown no Colab\n",
        "def to_markdown(text):\n",
        "  text = text.replace('•', '  *')\n",
        "  return Markdown(textwrap.indent(text, '> ', predicate=lambda _: True))"
      ],
      "metadata": {
        "id": "8dosiodaxfFR"
      },
      "execution_count": 16,
      "outputs": []
    },
    {
      "cell_type": "code",
      "source": [
        "##########################################\n",
        "# --- Agente 1: Agente de Busca --- #\n",
        "##########################################\n",
        "\n",
        "def agente_buscador(topico, data_de_hoje):\n",
        "  buscador = Agent(\n",
        "      name=\"agente_buscador\",\n",
        "      model=\"gemini-2.0-flash\",\n",
        "      description=\"Agente que busca notícias sobre o tópico indicado\",\n",
        "      tools=[google_search],\n",
        "      instruction=\"\"\"Agente de Busca (google_search)\n",
        "Objetivo: Reunir todas as informações essenciais e complementares necessárias para que os outros agentes possam desenvolver o conteúdo de forma precisa e completa.\n",
        "\n",
        "Instruções:\n",
        "\n",
        "Levantamento de Requisitos: Leia atentamente o texto fornecido e identifique todas as características, funcionalidades, comportamentos e requisitos de dados do chatbot.\n",
        "Pesquisa de Contexto:\n",
        "Para o \"Comportamento\": Busque exemplos de gírias locais de pesca no Brasil que possam ser usadas com cuidado.\n",
        "Para as \"Funcionalidades\" (Exemplos): Verifique se há padrões ou informações adicionais sobre os marcadores de posição [Nome do Rio/Mar/Lagoa], [Nome do Peixe], [Tipo de Estrutura], [Ponto geográfico específico], [Hora Início], [Hora Fim], [Cheia/Vazante], [Condição Climática], [Direção], [Velocidade], [Temperatura], [Tipo de Isca], [Tipo de Isca Artificial], [Cor], [Ex: vara de 10-20 libras, linha 0.30mm]. Embora o texto forneça exemplos, o objetivo é garantir que não haja lacunas conceituais.\n",
        "Para \"Dados\": Pesquise brevemente sobre a natureza e o acesso a \"dados de localização de peixes (relatos de pescadores, institutos de pesquisa, padrões migratórios)\", \"dados meteorológicos em tempo real e tabelas de marés\", e \"informações sobre espécies de peixes\" para ter uma compreensão básica de como essas informações são obtidas.\n",
        "Análise do Exemplo de Interação: Discuta o exemplo de interação para entender o fluxo e a aplicação das funcionalidades e do comportamento.\n",
        "Consolidação: Organize as informações levantadas em um formato claro e acessível para o Agente de Planejamento e o Agente Redator.\n",
        "\"\"\"\n",
        "\n",
        "  )\n",
        "\n",
        "  entrada_do_agente_buscador = f\"Tópico: {topico}\\nData de hoje: {data_de_hoje}\"\n",
        "  lancamentos= call_agent(buscador, entrada_do_agente_buscador)\n",
        "  return lancamentos"
      ],
      "metadata": {
        "id": "o8bqIfi_DyH8"
      },
      "execution_count": 25,
      "outputs": []
    },
    {
      "cell_type": "code",
      "source": [
        "################################################\n",
        "# --- Agente 2: Agente de Planejamento --- #\n",
        "################################################\n",
        "def agente_planejador(topico, lancamentos_buscados):\n",
        "    planejador = Agent(\n",
        "        name=\"agente_planejador\",\n",
        "        model=\"gemini-2.0-flash\",\n",
        "        # Inserir as instruções do Agente Planejador #################################################\n",
        "        instruction=\"\"\"\n",
        "        Agente de Planejamento\n",
        "Objetivo: Estruturar o conteúdo de forma lógica e coerente, definindo a sequência de tópicos e garantindo que todas as informações importantes sejam abordadas.\n",
        "\n",
        "Instruções:\n",
        "\n",
        "Revisão do Conteúdo Bruto: Analise o material coletado pelo Agente de Busca.\n",
        "Definição da Estrutura Principal:\n",
        "O chatbot adota um tom adulto, amigável e experiente, como um pescador veterano, utilizando poucas gírias locais de forma cuidadosa e apropriada.\n",
        "Suas respostas são diretas e claras, evitando jargões técnicos sempre que possível, e utilizam negrito para destacar informações importantes e raramente emojis para uma conversa mais visual e leve.\n",
        "O sistema é capaz de compreender as perguntas dos pescadores, mesmo que não sejam exatas, e interpretar a localização do usuário para sugerir os melhores pontos de pesca nas proximidades.\n",
        "Se aprofunde nos temas: (Localização de Peixes, Melhores Horários, Condições Climáticas,Estação do ano, Iscas Recomendadas, Equipamentos Necessários e Dicas) use pelo menos 3 linhas de texto em cada para que não fique muito vago.\n",
        "As interações iniciam com uma saudação amigável, como: Olá, companheiro de pesca! Como posso ajudar hoje?, e terminam com uma despedida encorajadora, como: Boa pescaria e volte sempre! Se precisar, é só chamar!.\n",
        "Destaques e Ênfase: Identifique quais informações devem ser destacadas (por exemplo, usando negrito) para maior clareza e impacto.\n",
        "Entrega: Apresente um plano detalhado para o Agente Redator, incluindo a estrutura do documento, os pontos-chave a serem abordados em cada seção e as informações a serem enfatizadas.\n",
        "        \"\"\",\n",
        "        description=\"Agente que estrutura o conteúdo.\",\n",
        "        tools=[google_search]\n",
        "    )\n",
        "\n",
        "    entrada_do_agente_planejador = f\"Tópico:{topico}\\nLançamentos buscados: {lancamentos_buscados}\"\n",
        "    # Executa o agente\n",
        "    plano_do_post = call_agent(planejador, entrada_do_agente_planejador)\n",
        "    return plano_do_post"
      ],
      "metadata": {
        "id": "y3VO1uo5_ghO"
      },
      "execution_count": 37,
      "outputs": []
    },
    {
      "cell_type": "code",
      "source": [
        "######################################\n",
        "# --- Agente 3: Agente Redator --- #\n",
        "######################################\n",
        "def agente_redator(topico, plano_de_post):\n",
        "    redator = Agent(\n",
        "        name=\"agente_redator\",\n",
        "        model=\"gemini-2.0-flash\",\n",
        "        instruction=\"\"\"\n",
        "            Agente Redator\n",
        "Objetivo: Escrever o conteúdo de forma clara, concisa e envolvente, seguindo as diretrizes de comportamento do chatbot (tom amigável e experiente, linguagem direta, uso de negrito e emojis, quando apropriado).\n",
        "\n",
        "Instruções:\n",
        "\n",
        "Consulta ao Plano: Utilize o plano de estrutura fornecido pelo Agente de Planejamento e as informações detalhadas pelo Agente de Busca.\n",
        "Elaboração da Introdução: Escreva uma introdução cativante que apresente o chatbot e seu propósito para os pescadores brasileiros.\n",
        "Desenvolvimento das Seções:\n",
        "Aprofunde-se nos temas: (Localização de Peixes, Melhores Horários, Condições Climáticas, Estação do ano, Iscas Recomendadas, Equipamentos Necessários e Dicas) para que não falte informação.\n",
        "Comportamento: Suas respostas são diretas e claras, evitando jargões técnicos sempre que possível, e utilizam negrito para destacar informações importantes e emojis para uma conversa mais visual e leve.\n",
        "Funcionalidades: O sistema é capaz de compreender as perguntas dos pescadores, mesmo que não sejam exatas, e interpretar a localização do usuário para sugerir os melhores pontos de pesca nas proximidades.\n",
        "Exemplo de Interação: As interações iniciam com uma saudação amigável, como: Olá, companheiro de pesca! Como posso ajudar hoje?, e terminam com uma despedida encorajadora, como: Boa pescaria e volte sempre! Se precisar, é só chamar!.\n",
        "Aplicação do Comportamento: O chatbot adota um tom adulto, amigável e experiente, como um pescador veterano, utilizando poucas gírias locais de forma cuidadosa e apropriada.\n",
        "Coerência e Clareza: Mantenha a fluidez entre as seções e evite ao maximo jargões desnecessários na descrição do chatbot.\n",
        "            \"\"\",\n",
        "        description=\"Agente redator de posts engajadores para Instagram\"\n",
        "    )\n",
        "    entrada_do_agente_redator = f\"Tópico: {topico}\\nPlano de post: {plano_de_post}\"\n",
        "    # Executa o agente\n",
        "    rascunho = call_agent(redator, entrada_do_agente_redator)\n",
        "    return rascunho"
      ],
      "metadata": {
        "id": "uOqlg2TRLVh1"
      },
      "execution_count": 48,
      "outputs": []
    },
    {
      "cell_type": "code",
      "source": [
        "##########################################\n",
        "# --- Agente 4: Revisor de Qualidade --- #\n",
        "##########################################\n",
        "def agente_revisor(topico, rascunho_gerado):\n",
        "    revisor = Agent(\n",
        "        name=\"agente_revisor\",\n",
        "        model=\"gemini-2.0-flash\",\n",
        "        tools=[google_search],\n",
        "        instruction=\"\"\"\n",
        "            Agente Revisor\n",
        "Objetivo: Garantir a qualidade final do texto, verificando a gramática, ortografia, pontuação, clareza, coerência e a aderência às instruções originais e ao comportamento desejado do chatbot.\n",
        "\n",
        "Instruções:\n",
        "\n",
        "Revisão Abrangente: Leia o texto produzido pelo Agente Redator.\n",
        "Verificação Gramatical e Ortográfica: Corrija quaisquer erros de gramática, ortografia e pontuação.\n",
        "Use o (google_search) para verificar se a informação ainda é válida.\n",
        "Clareza e Coerência:\n",
        "Verifique se a linguagem é adulta (entre 20 a 50 anos), clara e de fácil compreensão.\n",
        "Assegure-se de que o texto flui de forma lógica e que as informações estão bem conectadas.\n",
        "Confirme se não há redundâncias ou informações conflitantes.\n",
        "Verifique se as informações de linha de pesca estáo entre 1.00mm e 0.50mm, se estiver abaixo de 0.50mm set para 0.50mm (exemplo de erra: Equipamento: Vara média, linha 0,30mm e anzol médio. , correção: Equipamento: Vara média, linha 0,50mm e anzol médio.)\n",
        "Aderência ao Comportamento do Chatbot:\n",
        "Avalie se o tom amigável e experiente foi mantido consistentemente na descrição do chatbot.\n",
        "Verifique o uso apropriado de negrito e a ausência de jargões técnicos na descrição do chatbot.\n",
        "Exatidão das Informações: Compare o texto final com o material original e as informações do Agente de Busca e Planejamento para garantir a precisão de todas as características e funcionalidades descritas.\n",
        "Formatação: Revise a formatação (negrito, espaçamento, etc.) para garantir que o texto seja visualmente atraente e fácil de ler.\n",
        "Sintonia com os Exemplos: Confirme se os exemplos de funcionalidades e o exemplo de interação final estão bem integrados e são representativos.\n",
        "            \"\"\",\n",
        "        description=\"Agente reviso\"\n",
        "    )\n",
        "    entrada_do_agente_revisor = f\"Tópico: {topico}\\nRascunho: {rascunho_gerado}\"\n",
        "    # Executa o agente\n",
        "    texto_revisado = call_agent(revisor, entrada_do_agente_revisor)\n",
        "    return texto_revisado"
      ],
      "metadata": {
        "id": "_aTb1SdkLeT6"
      },
      "execution_count": 55,
      "outputs": []
    },
    {
      "cell_type": "code",
      "source": [
        "data_de_hoje = date.today().strftime(\"%d/%m/%Y\")\n",
        "\n",
        "print(\"🚀 Ligando o motor 🚀\")\n",
        "\n",
        "# --- Obter o Tópico do Usuário ---\n",
        "topico = input(\"🐟 Olá Pescador! Como posso ajudar??🐟 \" )\n",
        "\n",
        "# Inserir lógica do sistema de agentes ################################################\n",
        "if not topico:\n",
        "  print(\"Por favor, insira um tópico válido.\")\n",
        "else:\n",
        "  print(f\"🎣 Pesquisando sobre {topico}... 🎣\")\n",
        "\n",
        "  lancamentos_buscados = agente_buscador(topico, data_de_hoje)\n",
        "  print(\"_____Resultado agente 1_____\")\n",
        "  display(to_markdown(lancamentos_buscados))\n",
        "  print(\"____________________________\")\n",
        "\n",
        "  lancamentos_planejamento = agente_planejador(topico, lancamentos_buscados)\n",
        "  print(\"_____Resultado agente 2_____\")\n",
        "  display(to_markdown(lancamentos_planejamento))\n",
        "  print(\"____________________________\")\n",
        "\n",
        "  lancamentos_rascunho = agente_redator(topico, lancamentos_planejamento)\n",
        "  print(\"_____Resultado agente 3_____\")\n",
        "  display(to_markdown(lancamentos_rascunho))\n",
        "  print(\"____________________________\")\n",
        "\n",
        "  resultado_final = agente_revisor(topico, lancamentos_rascunho)\n",
        "  print(\"_____Resultado agente 4_____\")\n",
        "  display(to_markdown(resultado_final))\n",
        "  print(\"____________________________\")\n"
      ],
      "metadata": {
        "id": "630ummxz4myx",
        "colab": {
          "base_uri": "https://localhost:8080/"
        },
        "outputId": "b7da62a8-ad1d-4398-ab93-4db5395d0ebb"
      },
      "execution_count": null,
      "outputs": [
        {
          "output_type": "stream",
          "name": "stdout",
          "text": [
            "🚀 Ligando o motor 🚀\n"
          ]
        }
      ]
    }
  ]
}